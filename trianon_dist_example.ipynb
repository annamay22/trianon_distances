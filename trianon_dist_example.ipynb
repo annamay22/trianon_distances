{
 "cells": [
  {
   "cell_type": "code",
   "execution_count": null,
   "metadata": {},
   "outputs": [],
   "source": [
    "import geopandas as gpd\n",
    "import os\n",
    "import pyproj\n",
    "import matplotlib.pyplot as plt\n",
    "from shapely.geometry import MultiPoint\n",
    "from shapely.ops import cascaded_union, nearest_points"
   ]
  },
  {
   "cell_type": "markdown",
   "metadata": {},
   "source": [
    "# Compute the distance between Hungarian cities and the closest point on the historical Hungarian border"
   ]
  },
  {
   "cell_type": "markdown",
   "metadata": {},
   "source": [
    "## 0. Data "
   ]
  },
  {
   "cell_type": "markdown",
   "metadata": {},
   "source": [
    "Data source: [GISta](https://www.gistory.hu/g/hu/gistory/otka#2_Let%C3%B6lthet%C5%91%20anyagok)"
   ]
  },
  {
   "cell_type": "markdown",
   "metadata": {},
   "source": [
    "We need 2 datasets:  \n",
    "        1. the point coordinates of the border   \n",
    "        2. the coordinates of the cities  \n",
    "    \n",
    "(1) has to be created from county-level maps."
   ]
  },
  {
   "cell_type": "markdown",
   "metadata": {},
   "source": [
    "## 1. Recreate the border from county-level (járás) maps"
   ]
  },
  {
   "cell_type": "code",
   "execution_count": null,
   "metadata": {},
   "outputs": [],
   "source": [
    "jaras = gpd.read_file(\"data/MO_Jaras.shp\")"
   ]
  },
  {
   "cell_type": "markdown",
   "metadata": {},
   "source": [
    "### Original polygons (jaras szintu)"
   ]
  },
  {
   "cell_type": "code",
   "execution_count": null,
   "metadata": {},
   "outputs": [],
   "source": [
    "jaras.plot()\n",
    "plt.title('Járások, 1870-1910 borders')"
   ]
  },
  {
   "cell_type": "markdown",
   "metadata": {},
   "source": [
    "### Create a single polygon"
   ]
  },
  {
   "cell_type": "code",
   "execution_count": null,
   "metadata": {},
   "outputs": [],
   "source": [
    "polygons = jaras.geometry.values\n",
    "border = gpd.GeoSeries(cascaded_union(polygons))"
   ]
  },
  {
   "cell_type": "code",
   "execution_count": null,
   "metadata": {},
   "outputs": [],
   "source": [
    "border"
   ]
  },
  {
   "cell_type": "code",
   "execution_count": null,
   "metadata": {},
   "outputs": [],
   "source": [
    "border.plot()\n",
    "plt.title('Single polygon, 1870-1910 borders')"
   ]
  },
  {
   "cell_type": "markdown",
   "metadata": {},
   "source": [
    "### Create a list of points from the polygon"
   ]
  },
  {
   "cell_type": "code",
   "execution_count": null,
   "metadata": {},
   "outputs": [],
   "source": [
    "border_points = border.copy()\n",
    "border_points = border_points.geometry.apply(lambda x: MultiPoint(list(x.exterior.coords)))"
   ]
  },
  {
   "cell_type": "code",
   "execution_count": null,
   "metadata": {},
   "outputs": [],
   "source": [
    "border_points.plot()\n",
    "plt.title('Borders 1870-1910')"
   ]
  },
  {
   "cell_type": "code",
   "execution_count": null,
   "metadata": {},
   "outputs": [],
   "source": [
    "border"
   ]
  },
  {
   "cell_type": "code",
   "execution_count": null,
   "metadata": {},
   "outputs": [],
   "source": [
    "border_points"
   ]
  },
  {
   "cell_type": "markdown",
   "metadata": {},
   "source": [
    "## 2. Bring in the city-level data!"
   ]
  },
  {
   "cell_type": "code",
   "execution_count": null,
   "metadata": {},
   "outputs": [],
   "source": [
    "telepules = gpd.read_file(\"data/MO_Telepules.shp\")"
   ]
  },
  {
   "cell_type": "markdown",
   "metadata": {},
   "source": [
    "Originally, cities are polygons (below you can see Pécs), we want to get the central point so we can compute the distance"
   ]
  },
  {
   "cell_type": "code",
   "execution_count": null,
   "metadata": {},
   "outputs": [],
   "source": [
    "telepules.iloc[0].geometry"
   ]
  },
  {
   "cell_type": "markdown",
   "metadata": {},
   "source": [
    "The next cell computes the centorid for each city. After this operation, we'll have a single point per city."
   ]
  },
  {
   "cell_type": "code",
   "execution_count": null,
   "metadata": {},
   "outputs": [],
   "source": [
    "telepules"
   ]
  },
  {
   "cell_type": "code",
   "execution_count": null,
   "metadata": {},
   "outputs": [],
   "source": [
    "telepules['centers'] = telepules['geometry'].centroid"
   ]
  },
  {
   "cell_type": "code",
   "execution_count": null,
   "metadata": {},
   "outputs": [],
   "source": [
    "telepules"
   ]
  },
  {
   "cell_type": "code",
   "execution_count": null,
   "metadata": {},
   "outputs": [],
   "source": [
    "telepules[telepules.MegyeSzekh == 'T'].centers.plot()\n",
    "plt.title('Megyeszékhelyek')"
   ]
  },
  {
   "cell_type": "markdown",
   "metadata": {},
   "source": [
    "## 3. Find nearest points"
   ]
  },
  {
   "cell_type": "code",
   "execution_count": null,
   "metadata": {},
   "outputs": [],
   "source": [
    "def get_distance(a,b):\n",
    "    \"\"\"function computing the distance (km) between 2 pairs of coordinates\"\"\"\n",
    "    a_x, a_y = a.x, a.y\n",
    "    b_x, b_y = b.x, b.y\n",
    "    geod = pyproj.Geod(ellps='WGS84')\n",
    "    angle1,angle2,distance = geod.inv(a_x,a_y,b_x,b_y)\n",
    "    return distance/1000"
   ]
  },
  {
   "cell_type": "code",
   "execution_count": null,
   "metadata": {},
   "outputs": [],
   "source": [
    "border_geom = gpd.GeoDataFrame(\n",
    "    geometry = gpd.points_from_xy([pt.x for pt in border_points[0]], [pt.y for pt in border_points[0]])\n",
    ")\n",
    "\n",
    "unioned_points = border_geom.geometry.unary_union"
   ]
  },
  {
   "cell_type": "code",
   "execution_count": null,
   "metadata": {},
   "outputs": [],
   "source": [
    "# first, we find the nearest point on the border\n",
    "telepules['nearest'] = telepules.apply(lambda row: nearest_points(row.centers, unioned_points)[1], axis=1)\n",
    "\n",
    "# next, we project the points from Web Mercator / Pseudo Mercator (\"EPSG:3857\") to WGS84 (World Geodetic System 1984, EPSG:4326, this one is used in the GPSs\n",
    "telepules['nearest'] = gpd.GeoDataFrame(telepules[['nearest']], geometry='nearest').set_crs(\"EPSG:3857\").to_crs(\"EPSG:4326\")\n",
    "telepules['centers'] =  gpd.GeoDataFrame(telepules[['centers']], geometry='centers').set_crs(\"EPSG:3857\").to_crs(\"EPSG:4326\")\n",
    "\n",
    "# now we can easily compute the distance\n",
    "telepules['distance'] = telepules.apply(lambda row: get_distance(row.centers, row.nearest), axis=1)"
   ]
  },
  {
   "cell_type": "markdown",
   "metadata": {},
   "source": [
    "The distance between the cities and the borders is in the `distance` column of the dataframe."
   ]
  },
  {
   "cell_type": "markdown",
   "metadata": {},
   "source": [
    "## 4. Test the output"
   ]
  },
  {
   "cell_type": "markdown",
   "metadata": {},
   "source": [
    "The function `plot_city_nearest` takes a city name as argument and displays the border with black, the location of the city with red and the nearest point on the border with green. The small map it outputs helps to check if the calculations were correct. You can also check the points on google maps to validate."
   ]
  },
  {
   "cell_type": "code",
   "execution_count": null,
   "metadata": {},
   "outputs": [],
   "source": [
    "def plot_city_nearest(city, border_data=border_points, cities_data=telepules, save=True):\n",
    "    \n",
    "    filt_df = cities_data[cities_data.telepulesn == city]\n",
    "    ind = cities_data.index[cities_data.telepulesn == city].tolist()[0]\n",
    "    \n",
    "    print('The coordinates of the city: {}'.format(cities_data.iloc[ind]['centers'].coords[0]))\n",
    "    print('The coordinates of the border point: {}'.format(cities_data.iloc[ind]['nearest'].coords[0]))\n",
    "    print('The distance between {} and the border is {:0.2f} km'.format(city, cities_data.iloc[ind]['distance']))\n",
    "    \n",
    "    ax = border_points.set_crs(\"EPSG:3857\").to_crs(\"EPSG:4326\").plot(\n",
    "        color='white', edgecolor='black')\n",
    "\n",
    "    gpd.GeoDataFrame(filt_df[['centers']], geometry='centers').set_crs(\"EPSG:4326\").plot(ax=ax, color='red')\n",
    "\n",
    "    gpd.GeoDataFrame(filt_df[['nearest']], geometry='nearest').set_crs(\"EPSG:4326\").plot(ax=ax, color='green')\n",
    "\n",
    "    plt.show()\n",
    "    \n",
    "    if save:\n",
    "        plt.savefig('data/{}.png'.format(city))"
   ]
  },
  {
   "cell_type": "code",
   "execution_count": null,
   "metadata": {},
   "outputs": [],
   "source": [
    "plot_city_nearest('Pécs')"
   ]
  },
  {
   "cell_type": "code",
   "execution_count": null,
   "metadata": {},
   "outputs": [],
   "source": [
    "plot_city_nearest('Budapest')"
   ]
  },
  {
   "cell_type": "markdown",
   "metadata": {},
   "source": [
    "That's all, have fun!"
   ]
  },
  {
   "cell_type": "code",
   "execution_count": null,
   "metadata": {},
   "outputs": [],
   "source": [
    "plot_city_nearest('Győr')"
   ]
  },
  {
   "cell_type": "code",
   "execution_count": null,
   "metadata": {},
   "outputs": [],
   "source": [
    "plot_city_nearest('Sátoraljaújhely')"
   ]
  },
  {
   "cell_type": "code",
   "execution_count": null,
   "metadata": {},
   "outputs": [],
   "source": []
  }
 ],
 "metadata": {
  "kernelspec": {
   "display_name": "geo_env",
   "language": "python",
   "name": "geo_env"
  },
  "language_info": {
   "codemirror_mode": {
    "name": "ipython",
    "version": 3
   },
   "file_extension": ".py",
   "mimetype": "text/x-python",
   "name": "python",
   "nbconvert_exporter": "python",
   "pygments_lexer": "ipython3",
   "version": "3.6.10"
  }
 },
 "nbformat": 4,
 "nbformat_minor": 4
}
